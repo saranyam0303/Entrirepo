{
 "cells": [
  {
   "cell_type": "code",
   "execution_count": 1,
   "id": "895c3992",
   "metadata": {},
   "outputs": [
    {
     "name": "stdout",
     "output_type": "stream",
     "text": [
      "Enter your user ID: saranya\n",
      "Enter password: abcd\n",
      "Login successful\n",
      "\n",
      " WELCOME.. saranya,\n",
      " Account Number : 123456\n",
      " Current balance is: 1000\n",
      "\n",
      "options:\n",
      "1.deposite money\n",
      "2.withdraw money\n",
      "choose your option  :   1\n",
      "\n",
      "Deposited amount :500 \n",
      " Current balance is: 1500\n"
     ]
    }
   ],
   "source": [
    "#Write a python program to replicate a Banking system. The following features are mandatory:\n",
    "#1. Account login\n",
    "#2. Amount Depositing\n",
    "#3. Amount Withdrawal\n",
    "#Other than the above features you can add any other also.\n",
    "\n",
    "#You should  upload the code and output in to your github account. Submit the github link here.\n",
    "\n",
    "\n",
    "class Login:\n",
    "    \n",
    "    def __init__(self, id, password):\n",
    "        self.id = id\n",
    "        self.password = password\n",
    "        self.error = \"Enter a valid username and password\"\n",
    "        \n",
    "    def check(self):\n",
    "        if (self.id == log_id and self.password == log_pass):\n",
    "            print(\"Login successful\")\n",
    "            \n",
    "            \n",
    "            class Account:\n",
    "                \n",
    "                def __init__(self, name, account_number, balance):\n",
    "                        self.name = name\n",
    "                        self.account_number = account_number\n",
    "                        self.balance = balance\n",
    "                        \n",
    "                def show(self):\n",
    "                        print(f\"\\n WELCOME.. {self.name},\\n Account Number : {self.account_number}\\n Current balance is: {self.balance}\")\n",
    "                \n",
    "                def deposit(self, amount):\n",
    "                        self.balance += amount\n",
    "                        print(f\"\\nDeposited amount :{amount} \\n Current balance is: {self.balance}\")\n",
    "                        \n",
    "                        \n",
    "                def withdraw(self, amount):\n",
    "                        self.balance -= amount\n",
    "                        print(f\" \\nWithdrawed amount : {amount} Current balance is: {self.balance}\")\n",
    "                        \n",
    "                        \n",
    "            account1 = Account(\"saranya\", \"123456\", 1000)\n",
    "            account1.show()\n",
    "            \n",
    "            print(\"\\noptions:\\n1.deposite money\\n2.withdraw money\")\n",
    "            op=int(input(\"choose your option  :   \"))\n",
    "            if op==1:\n",
    "                account1.deposit(500)\n",
    "            elif op==2:\n",
    "                account1.withdraw(300)\n",
    "        \n",
    "            \n",
    "        else:\n",
    "            print(self.error)\n",
    "\n",
    "log = Login(\"saranya\",\"abcd\")\n",
    "log_id = input(\"Enter your user ID: \")\n",
    "log_pass = input(\"Enter password: \")\n",
    "log.check()"
   ]
  },
  {
   "cell_type": "code",
   "execution_count": null,
   "id": "bc383513",
   "metadata": {},
   "outputs": [],
   "source": []
  }
 ],
 "metadata": {
  "kernelspec": {
   "display_name": "Python 3 (ipykernel)",
   "language": "python",
   "name": "python3"
  },
  "language_info": {
   "codemirror_mode": {
    "name": "ipython",
    "version": 3
   },
   "file_extension": ".py",
   "mimetype": "text/x-python",
   "name": "python",
   "nbconvert_exporter": "python",
   "pygments_lexer": "ipython3",
   "version": "3.11.5"
  }
 },
 "nbformat": 4,
 "nbformat_minor": 5
}
